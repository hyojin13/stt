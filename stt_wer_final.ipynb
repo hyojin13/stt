{
  "nbformat": 4,
  "nbformat_minor": 0,
  "metadata": {
    "colab": {
      "provenance": [],
      "include_colab_link": true
    },
    "kernelspec": {
      "name": "python3",
      "display_name": "Python 3"
    },
    "language_info": {
      "name": "python"
    }
  },
  "cells": [
    {
      "cell_type": "markdown",
      "metadata": {
        "id": "view-in-github",
        "colab_type": "text"
      },
      "source": [
        "<a href=\"https://colab.research.google.com/github/hyojin13/stt/blob/main/stt_wer_final.ipynb\" target=\"_parent\"><img src=\"https://colab.research.google.com/assets/colab-badge.svg\" alt=\"Open In Colab\"/></a>"
      ]
    },
    {
      "cell_type": "markdown",
      "source": [
        "## 🐹 🐾  <font color = 'red'>**TTS (Text-to-Speech)**\n",
        "\n",
        "### 📌 Precondition:\n",
        "Define your own functions and include them in your code lines.\n",
        "\n",
        "🔍 [about Functions](https://github.com/ms624atyale/Python_Basics/blob/main/8_DefiningFunctions.ipynb)\n",
        "\n",
        "#### **Step 0**: Install gTTS package.\n",
        "\n",
        "     🎧 🔉 TTS (text-to-speech) with multiple accents available\n",
        "     \n",
        "     How to use:\n",
        "     1. Install the gTTS package 🏫 (**code line**: !pip install gTTS)\n",
        "        * The gTTS library is a Python wrapper for the Google Text-to-Speech(TTS)\n",
        "        API(Application Programming Interface). It allows you to convert text into speech using Google's text-to-speech service.\n",
        "        * The gTTS library provides a convenient way to generate speech from text by utilizing the power\n",
        "        of Google's TTS engine. It allows you to specify the text to be converted, choose the desired\n",
        "        language, and control various parameters such as the speed of speech.\n",
        "\n",
        "     2. Import subordinate units (modues🎁 and  functions [📎📐][🏀⚽⚾][📕📗📘📙])\n",
        "\n",
        "     3. Select an accent of your choice among English (en), French (fr), Korean (ko), and Spanish (es).\n",
        "\n",
        "     4. Enter a text, and generate and save a wave file.\n",
        "\n",
        "     5. Play the wave file.\n",
        "\n",
        ">\n",
        "\n",
        "    Commonly used language codes supported by the gTTS\n",
        "    * Afrikaans: \"af\"    * Albanian: \"sq\"\n",
        "    * Arabic: \"ar\"       * Bengali: \"bn\"\n",
        "    * Catalan: \"ca\"      * Chinese (Simplified): \"zh-cn\"\n",
        "    * Chinese (Traditional): \"zh-tw\"     * Croatian: \"hr\"\n",
        "    * Czech: \"cs\"        * Danish: \"da\"\n",
        "    * Dutch: \"nl\"        * English: \"en\"\n",
        "    * Esperanto: \"eo\"    * Estonian: \"et\"\n",
        "    * Filipino: \"tl\"     * Finnish: \"fi\"\n",
        "    * French: \"fr\"       * German: \"de\"\n",
        "    * Greek: \"el\"        * Hindi: \"hi\"\n",
        "    * Hungarian: \"hu\"    * Icelandic: \"is\"\n",
        "    * Indonesian: \"id\".  * Irish: \"ga\"\n",
        "    * Italian: \"it\".     * Japanese: \"ja\"\n",
        "    * Korean: \"ko\"       * Latin: \"la\"\n",
        "    * Latvian: \"lv\"      * Lithuanian: \"lt\"\n",
        "    * Macedonian: \"mk\".  * Malay: \"ms\"\n",
        "    * Maltese: \"mt\".     * Norwegian: \"no\"\n",
        "    * Polish: \"pl\"       * Portuguese: \"pt\"\n",
        "    * Romanian: \"ro\".    * Russian: \"ru\"\n",
        "    * Serbian: \"sr\".     * Slovak: \"sk\"\n",
        "    * Slovenian: \"sl\".   * Spanish: \"es\"\n",
        "    * Swahili: \"sw\".     * Swedish: \"sv\"\n",
        "    * Tamil: \"ta\".       * Telugu: \"te\"\n",
        "    * Thai: \"th\".        * Turkish: \"tr\"\n",
        "    * Ukrainian: \"uk\".   * Urdu: \"ur\"\n",
        "    * Vietnamese: \"vi\".  * Welsh: \"cy\"\n",
        "    * Zulu: \"zu\"\n"
      ],
      "metadata": {
        "id": "yBYKRnFWfXGD"
      }
    },
    {
      "cell_type": "code",
      "source": [
        "#@markdown **Step 1 with annotations**: Install the **gTTS** packages and import its relevant modules and functions\n",
        "\n",
        "#@markdown [IPython & Shell](\"https://github.com/ms624atyale/Python_Basics/blob/main/ChatGPT_1_IPython_Shell.ipynb\")\n",
        "\n",
        "!pip install gTTS\n",
        "from gtts import gTTS #gTTS패키지에서 gTTS모듈을 불러들여라.\n",
        "from IPython.display import Audio #IPython.display모듈에서 Audio함수를 호출한다."
      ],
      "metadata": {
        "colab": {
          "base_uri": "https://localhost:8080/"
        },
        "id": "AFyY_FrUFhzv",
        "outputId": "89deea01-c83b-4be9-ca86-cd11fa59c05f"
      },
      "execution_count": null,
      "outputs": [
        {
          "output_type": "stream",
          "name": "stdout",
          "text": [
            "Collecting gTTS\n",
            "  Downloading gTTS-2.5.4-py3-none-any.whl.metadata (4.1 kB)\n",
            "Requirement already satisfied: requests<3,>=2.27 in /usr/local/lib/python3.10/dist-packages (from gTTS) (2.32.3)\n",
            "Requirement already satisfied: click<8.2,>=7.1 in /usr/local/lib/python3.10/dist-packages (from gTTS) (8.1.7)\n",
            "Requirement already satisfied: charset-normalizer<4,>=2 in /usr/local/lib/python3.10/dist-packages (from requests<3,>=2.27->gTTS) (3.4.0)\n",
            "Requirement already satisfied: idna<4,>=2.5 in /usr/local/lib/python3.10/dist-packages (from requests<3,>=2.27->gTTS) (3.10)\n",
            "Requirement already satisfied: urllib3<3,>=1.21.1 in /usr/local/lib/python3.10/dist-packages (from requests<3,>=2.27->gTTS) (2.2.3)\n",
            "Requirement already satisfied: certifi>=2017.4.17 in /usr/local/lib/python3.10/dist-packages (from requests<3,>=2.27->gTTS) (2024.8.30)\n",
            "Downloading gTTS-2.5.4-py3-none-any.whl (29 kB)\n",
            "Installing collected packages: gTTS\n",
            "Successfully installed gTTS-2.5.4\n"
          ]
        }
      ]
    },
    {
      "cell_type": "code",
      "source": [
        "#@markdown **Step 2 with annotations**: Define a function that enables a user to i) select an accent, ii) generate a wave file, and iii) spit out a corresponding play window.\n",
        "\n",
        "def tts(text):\n",
        "  text_to_speech = text\n",
        "  language=\"en\" #@param[\"en\",\"fr\",\"ko\",\"es\",\"de\",\"hi\",\"ja\",\"it\"]\n",
        "\n",
        "\n",
        "  gtts_object = gTTS(text = text_to_speech,\n",
        "                     lang = language,\n",
        "                     slow = False)\n",
        "  gtts_object.save(\"myaudio.wav\") #gtts_object변수를 save모듈 사용하여 'myaudio.wav'로 저장하기\n",
        "  return Audio(\"myaudio.wav\") #Audio함수를 사용하여 'myaudio.wav'를 반환하라."
      ],
      "metadata": {
        "cellView": "form",
        "id": "paJAp9gzgEiT"
      },
      "execution_count": null,
      "outputs": []
    },
    {
      "cell_type": "code",
      "source": [
        "#@markdown **Step 3 with annotations**: Type in (or copy & past) any texts of yoour interest in the input box.\n",
        "\n",
        "#@markdown <font size='2.8'>[Type-in example] : <font color='red'> _finally she administered ether_\n",
        "text_to_speech = input('Enter a text you would like to hear:')\n",
        "txt = str(text_to_speech) #str함수에 입력된 텍스트를 인자로 넣어, 이를 txt변수에 할당.\n",
        "print(\"Help: Three dots in the audio window provide various playback speed. The default is set up for normal.\")\n",
        "tts(txt) #tts함수에 txt변수를 인자로 넣기"
      ],
      "metadata": {
        "colab": {
          "base_uri": "https://localhost:8080/",
          "height": 111
        },
        "id": "dQ-OMssWgRK0",
        "outputId": "36d12448-7efd-4255-cc7f-7e514cb4855a"
      },
      "execution_count": null,
      "outputs": [
        {
          "output_type": "stream",
          "name": "stdout",
          "text": [
            "Enter a text you would like to hear:inally she administered ether\n",
            "Help: Three dots in the audio window provide various playback speed. The default is set up for normal.\n"
          ]
        },
        {
          "output_type": "execute_result",
          "data": {
            "text/plain": [
              "<IPython.lib.display.Audio object>"
            ],
            "text/html": [
              "\n",
              "                <audio  controls=\"controls\" >\n",
              "                    <source src=\"data:audio/x-wav;base64,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\" type=\"audio/x-wav\" />\n",
              "                    Your browser does not support the audio element.\n",
              "                </audio>\n",
              "              "
            ]
          },
          "metadata": {},
          "execution_count": 3
        }
      ]
    },
    {
      "cell_type": "markdown",
      "source": [
        "## 😉 🐹 🐾 **Automatic Speech Recognition (STT) combined with Word Error Rate**"
      ],
      "metadata": {
        "id": "r19u6FaMgapA"
      }
    },
    {
      "cell_type": "markdown",
      "source": [
        "<font color = 'red'> **WER = Error words (Substitutions + Deletions + Insertions) / Total Reference Words**\n",
        "\n",
        "**Interpretation:** A lower WER indicates better performance, with 0\n",
        "representing perfect transcription and 1 complete misrecognition,\n",
        "potentially exceeding 1 with more insertions.\n",
        "\n",
        "    - To convert human speech in wave format to text using Automatic Speech Recognition (ASR)\n",
        "    or Speech-to-Text (STT) technology, you can utilize the SpeechRecognition library in Python.\n",
        "    This library provides an interface to several popular STT engines. Here's an example code snippet:\n",
        "    In this example, the convert_speech_to_text() function takes the path to the WAV audio file as input\n",
        "    and returns the recognized text. It uses the speech_recognition library to create a Recognizer instance.\n",
        "    The audio file is loaded using sr.AudioFile, and the record() method is used to extract the audio data.\n",
        "    \n",
        "    - The recognize_google() method is used with the Google Speech Recognition API to perform the speech-to-text\n",
        "    conversion. This requires an internet connection and may be subject to usage limits and terms of service.\n",
        "\n",
        "    - Replace \"path/to/your/audio.wav\" with the actual path to your WAV audio file. After running the code,\n",
        "    the recognized text will be printed to the console.\n",
        "\n",
        "    - Note that the accuracy of speech recognition can vary depending on factors such as audio quality,\n",
        "    background noise, speaker accent, and the specific STT engine being used."
      ],
      "metadata": {
        "id": "P419Y8oPTr8y"
      }
    },
    {
      "cell_type": "markdown",
      "source": [
        "###<font color = 'green'> **🐹 👀 Demonstraion for an example**"
      ],
      "metadata": {
        "id": "lZSCtbAgHwHX"
      }
    },
    {
      "cell_type": "code",
      "source": [
        "#subj1_sent_rep1_compressed\n",
        "\n",
        "!pip install python-Levenshtein\n",
        "import Levenshtein\n",
        "\n",
        "def calculate_wer(reference, hypothesis):\n",
        "    reference_words = reference.split()\n",
        "    hypothesis_words = hypothesis.split()\n",
        "\n",
        "    # Compute Levenshtein distance between the reference and hypothesis\n",
        "    distance = Levenshtein.distance(reference_words, hypothesis_words)\n",
        "\n",
        "    # Calculate Word Error Rate (WER)\n",
        "    wer = distance / len(reference_words)\n",
        "    return wer\n",
        "\n",
        "# Example usage\n",
        "reference_text0 = \"finally she administered ether\"\n",
        "hypothesis_text0 = \"finally she administered ether\"\n",
        "wer1 = calculate_wer(reference_text0, hypothesis_text0)\n",
        "print(f\"Word Error Rate (WER): {wer1}\")"
      ],
      "metadata": {
        "colab": {
          "base_uri": "https://localhost:8080/"
        },
        "id": "ql57aIm6iNbE",
        "outputId": "a0a3e5ba-6fe2-459c-ce0a-64e5df425de4"
      },
      "execution_count": null,
      "outputs": [
        {
          "output_type": "stream",
          "name": "stdout",
          "text": [
            "Collecting python-Levenshtein\n",
            "  Downloading python_Levenshtein-0.26.1-py3-none-any.whl.metadata (3.7 kB)\n",
            "Collecting Levenshtein==0.26.1 (from python-Levenshtein)\n",
            "  Downloading levenshtein-0.26.1-cp310-cp310-manylinux_2_17_x86_64.manylinux2014_x86_64.whl.metadata (3.2 kB)\n",
            "Collecting rapidfuzz<4.0.0,>=3.9.0 (from Levenshtein==0.26.1->python-Levenshtein)\n",
            "  Downloading rapidfuzz-3.10.1-cp310-cp310-manylinux_2_17_x86_64.manylinux2014_x86_64.whl.metadata (11 kB)\n",
            "Downloading python_Levenshtein-0.26.1-py3-none-any.whl (9.4 kB)\n",
            "Downloading levenshtein-0.26.1-cp310-cp310-manylinux_2_17_x86_64.manylinux2014_x86_64.whl (162 kB)\n",
            "\u001b[2K   \u001b[90m━━━━━━━━━━━━━━━━━━━━━━━━━━━━━━━━━━━━━━━━\u001b[0m \u001b[32m162.6/162.6 kB\u001b[0m \u001b[31m6.7 MB/s\u001b[0m eta \u001b[36m0:00:00\u001b[0m\n",
            "\u001b[?25hDownloading rapidfuzz-3.10.1-cp310-cp310-manylinux_2_17_x86_64.manylinux2014_x86_64.whl (3.1 MB)\n",
            "\u001b[2K   \u001b[90m━━━━━━━━━━━━━━━━━━━━━━━━━━━━━━━━━━━━━━━━\u001b[0m \u001b[32m3.1/3.1 MB\u001b[0m \u001b[31m47.0 MB/s\u001b[0m eta \u001b[36m0:00:00\u001b[0m\n",
            "\u001b[?25hInstalling collected packages: rapidfuzz, Levenshtein, python-Levenshtein\n",
            "Successfully installed Levenshtein-0.26.1 python-Levenshtein-0.26.1 rapidfuzz-3.10.1\n",
            "Word Error Rate (WER): 0.0\n"
          ]
        }
      ]
    },
    {
      "cell_type": "code",
      "execution_count": null,
      "metadata": {
        "colab": {
          "base_uri": "https://localhost:8080/"
        },
        "id": "tCu_W_eg-n4N",
        "outputId": "b4eff051-674a-4895-b06b-92a18b9cf8a7"
      },
      "outputs": [
        {
          "output_type": "stream",
          "name": "stdout",
          "text": [
            "Collecting SpeechRecognition\n",
            "  Downloading SpeechRecognition-3.12.0-py3-none-any.whl.metadata (30 kB)\n",
            "Requirement already satisfied: typing-extensions in /usr/local/lib/python3.10/dist-packages (from SpeechRecognition) (4.12.2)\n",
            "Downloading SpeechRecognition-3.12.0-py3-none-any.whl (32.8 MB)\n",
            "\u001b[2K   \u001b[90m━━━━━━━━━━━━━━━━━━━━━━━━━━━━━━━━━━━━━━━━\u001b[0m \u001b[32m32.8/32.8 MB\u001b[0m \u001b[31m48.9 MB/s\u001b[0m eta \u001b[36m0:00:00\u001b[0m\n",
            "\u001b[?25hInstalling collected packages: SpeechRecognition\n",
            "Successfully installed SpeechRecognition-3.12.0\n",
            "File: s11_comma.wav\n",
            "Text: before wrong that itchy goes began to start around the office like a urinary which made on on Centenary mess\n",
            "Word Count: 20\n",
            "\n",
            "File: s4_comma.wav\n",
            "Text: even so on her first morning she first\n",
            "Word Count: 8\n",
            "\n",
            "File: s1_comma.wav\n",
            "Text: well here's a story for\n",
            "Word Count: 5\n",
            "\n",
            "File: s7_comma.wav\n",
            "Text: when she got there there was a woman with a ghost waiting for her\n",
            "Word Count: 14\n",
            "\n",
            "File: s10_comma.wav\n",
            "Text: Sarah was sentimental so this made her feel sorry for the beautiful part\n",
            "Word Count: 13\n",
            "\n",
            "File: s8_comma.wav\n",
            "Text: the woman gave Sarah an official letter from the\n",
            "Word Count: 9\n",
            "\n",
            "File: s2_comma.wav\n",
            "Text: Sarah Perry was a Veterinary nurse who had been working daily at an old Jew in a deserted District of the territory so she was very happy to start a new job at a super Private Practice in North Square near the Duke Street Tower\n",
            "Word Count: 45\n",
            "\n",
            "File: s6_comma.wav\n",
            "Text: then she put on our plain yellow dress and off please check it picked up her kids and headed for work\n",
            "Word Count: 21\n",
            "\n",
            "File: s3_comma.wav\n",
            "Text: that area was much nearer for her and more to car liking\n",
            "Word Count: 12\n",
            "\n",
            "File: s9_comma.wav\n",
            "Text: the letter implied that the animal could be suffering from a rare form of foot and mouth disease which was surprising because normally you would only expect to see it in a dog or a goat\n",
            "Word Count: 36\n",
            "\n",
            "File: s5_comma.wav\n",
            "Text: she ate a bowl of porridge check herself in the mirror and wash it her face in a hurry\n",
            "Word Count: 19\n",
            "\n",
            "File: s12_comma.wav\n",
            "Text: Douglas owner Mary Harrison kept calling comma comma with Sarah thought was on Old choice for a name\n",
            "Word Count: 18\n",
            "\n"
          ]
        }
      ],
      "source": [
        "!pip install SpeechRecognition\n",
        "\n",
        "import os\n",
        "import speech_recognition as sr\n",
        "\n",
        "def convert_speech_to_text(audio_file):\n",
        "    recognizer = sr.Recognizer()\n",
        "\n",
        "    with sr.AudioFile(audio_file) as source:\n",
        "        audio = recognizer.record(source)  # Load the audio file\n",
        "\n",
        "    text = recognizer.recognize_google(audio)  # Use Google Speech Recognition API\n",
        "\n",
        "    return text\n",
        "\n",
        "def count_words(text):\n",
        "    words = text.split()  # Split the text into words\n",
        "    return len(words)    # Return the count of words\n",
        "\n",
        "# Path to the folder containing the WAV files\n",
        "folder_path = \"/content/sent12\"\n",
        "\n",
        "# Iterate over the files in the folder\n",
        "for filename in os.listdir(folder_path):\n",
        "    if filename.endswith(\".wav\"):\n",
        "        audio_file = os.path.join(folder_path, filename)\n",
        "\n",
        "        converted_text = convert_speech_to_text(audio_file)  # Convert speech to text\n",
        "\n",
        "        word_count = count_words(converted_text)  # Count the words in the converted text\n",
        "\n",
        "        print(f\"File: {filename}\")\n",
        "        print(f\"Text: {converted_text}\")\n",
        "        print(f\"Word Count: {word_count}\\n\")\n"
      ]
    },
    {
      "cell_type": "markdown",
      "source": [
        "### **💋👂 🔉 Compare each speaker's utterance with the reference text.**\n",
        "\n",
        "- Here I used sentence tokens from 10 speakers.\n",
        "- The reference text is \"finally she administed ether\" 마침내 그녀는 에테르를 투여했다."
      ],
      "metadata": {
        "id": "zwI3d0XUJdmI"
      }
    },
    {
      "cell_type": "code",
      "source": [
        "!pip install python-Levenshtein\n",
        "import Levenshtein\n",
        "\n",
        "def calculate_wer(reference, hypothesis):\n",
        "    reference_words = reference.split()\n",
        "    hypothesis_words = hypothesis.split()\n",
        "\n",
        "    # Compute Levenshtein distance between the reference and hypothesis\n",
        "    distance = Levenshtein.distance(reference_words, hypothesis_words)\n",
        "\n",
        "    # Calculate Word Error Rate (WER)\n",
        "    wer = distance / len(reference_words)\n",
        "    return wer\n",
        "\n",
        "#Compare hypothesis with reference\n",
        "\n",
        "reference_text0 = \"finally she administered ether\"\n",
        "hypothesis_text0 = \"finally she administered ether\"\n",
        "wer1 = calculate_wer(reference_text0, hypothesis_text0)\n",
        "print(f\"Word Error Rate (WER): {wer1}\")\n",
        "\n",
        "reference_text1 = \"finally, she administered ether\"\n",
        "hypothesis_text1 = \"finally she admitted either\"\n",
        "wer1 = calculate_wer(reference_text1, hypothesis_text1)\n",
        "print(f\"Word Error Rate (WER): {wer1}\")\n",
        "\n",
        "reference_text2 = \"Finally, she administered ether\"\n",
        "hypothesis_text2 = \"finally she administered either\"\n",
        "wer2 = calculate_wer(reference_text2, hypothesis_text2)\n",
        "print(f\"Word Error Rate (WER): {wer2}\")\n",
        "\n",
        "reference_text3 = \"finally, she administered ether\"\n",
        "hypothesis_text3 = \"finally she ultimately\"\n",
        "wer3 = calculate_wer(reference_text3, hypothesis_text3)\n",
        "print(f\"Word Error Rate (WER): {wer3}\")\n",
        "\n",
        "reference_text4 = \"finally, she administered ether\"\n",
        "hypothesis_text4 = \"finally she old manuscript eater\"\n",
        "wer4 = calculate_wer(reference_text4, hypothesis_text4)\n",
        "print(f\"Word Error Rate (WER): {wer4}\")\n",
        "\n",
        "reference_text5 = \"finally, she administered ether\"\n",
        "hypothesis_text5 = \"finally she administer either\"\n",
        "wer5 = calculate_wer(reference_text5, hypothesis_text5)\n",
        "print(f\"Word Error Rate (WER): {wer5}\")\n",
        "\n",
        "reference_text6 = \"finally, she administered ether\"\n",
        "hypothesis_text6 = \"finally she organized 308 either\"\n",
        "wer6 = calculate_wer(reference_text6, hypothesis_text6)\n",
        "print(f\"Word Error Rate (WER): {wer6}\")\n",
        "\n",
        "reference_text7 = \"finally, she administered ether\"\n",
        "hypothesis_text7 = \"binary show The Mystery Theater\"\n",
        "wer7 = calculate_wer(reference_text7, hypothesis_text7)\n",
        "print(f\"Word Error Rate (WER): {wer7}\")\n",
        "\n",
        "reference_text8 = \"finally, she administered ether\"\n",
        "hypothesis_text8 = \"finally she administered either\"\n",
        "wer8 = calculate_wer(reference_text8, hypothesis_text8)\n",
        "print(f\"Word Error Rate (WER): {wer8}\")\n",
        "\n",
        "reference_text9 = \"finally, she administered ether\"\n",
        "hypothesis_text9 = \"finally she ordered Minister either\"\n",
        "wer9 = calculate_wer(reference_text9, hypothesis_text9)\n",
        "print(f\"Word Error Rate (WER): {wer9}\")\n",
        "\n",
        "reference_text10 = \"finally, she administered ether\"\n",
        "hypothesis_text10 = \"finally she administrative\"\n",
        "wer10 = calculate_wer(reference_text10, hypothesis_text10)\n",
        "print(f\"Word Error Rate (WER): {wer10}\")"
      ],
      "metadata": {
        "colab": {
          "base_uri": "https://localhost:8080/"
        },
        "id": "N2Yfn9mm_mIz",
        "outputId": "45ec656f-b582-4e34-fa95-f700ee65d670"
      },
      "execution_count": null,
      "outputs": [
        {
          "output_type": "stream",
          "name": "stdout",
          "text": [
            "Collecting python-Levenshtein\n",
            "  Downloading python_Levenshtein-0.26.1-py3-none-any.whl.metadata (3.7 kB)\n",
            "Collecting Levenshtein==0.26.1 (from python-Levenshtein)\n",
            "  Downloading levenshtein-0.26.1-cp310-cp310-manylinux_2_17_x86_64.manylinux2014_x86_64.whl.metadata (3.2 kB)\n",
            "Collecting rapidfuzz<4.0.0,>=3.9.0 (from Levenshtein==0.26.1->python-Levenshtein)\n",
            "  Downloading rapidfuzz-3.10.1-cp310-cp310-manylinux_2_17_x86_64.manylinux2014_x86_64.whl.metadata (11 kB)\n",
            "Downloading python_Levenshtein-0.26.1-py3-none-any.whl (9.4 kB)\n",
            "Downloading levenshtein-0.26.1-cp310-cp310-manylinux_2_17_x86_64.manylinux2014_x86_64.whl (162 kB)\n",
            "\u001b[2K   \u001b[90m━━━━━━━━━━━━━━━━━━━━━━━━━━━━━━━━━━━━━━━━\u001b[0m \u001b[32m162.6/162.6 kB\u001b[0m \u001b[31m4.7 MB/s\u001b[0m eta \u001b[36m0:00:00\u001b[0m\n",
            "\u001b[?25hDownloading rapidfuzz-3.10.1-cp310-cp310-manylinux_2_17_x86_64.manylinux2014_x86_64.whl (3.1 MB)\n",
            "\u001b[2K   \u001b[90m━━━━━━━━━━━━━━━━━━━━━━━━━━━━━━━━━━━━━━━━\u001b[0m \u001b[32m3.1/3.1 MB\u001b[0m \u001b[31m45.9 MB/s\u001b[0m eta \u001b[36m0:00:00\u001b[0m\n",
            "\u001b[?25hInstalling collected packages: rapidfuzz, Levenshtein, python-Levenshtein\n",
            "Successfully installed Levenshtein-0.26.1 python-Levenshtein-0.26.1 rapidfuzz-3.10.1\n",
            "Word Error Rate (WER): 0.75\n",
            "Word Error Rate (WER): 0.5\n",
            "Word Error Rate (WER): 0.75\n",
            "Word Error Rate (WER): 1.0\n",
            "Word Error Rate (WER): 0.75\n",
            "Word Error Rate (WER): 1.0\n",
            "Word Error Rate (WER): 1.25\n",
            "Word Error Rate (WER): 0.5\n",
            "Word Error Rate (WER): 1.0\n",
            "Word Error Rate (WER): 0.75\n"
          ]
        }
      ]
    },
    {
      "cell_type": "markdown",
      "source": [
        "### **❗🆘❗Compare each speaker's utterance with the reference text modified due to homophonous words between ether and either.**\n",
        "\n",
        "- Here I used sentence tokens from 10 speakers.\n",
        "- The reference text is \"finally she administed either\" 마침내 그녀는 에테르를 투여했다.(Here I used homophonous 'either' instead of 'ether')"
      ],
      "metadata": {
        "id": "HEIrhSH4K5ga"
      }
    },
    {
      "cell_type": "code",
      "source": [
        "!pip install python-Levenshtein\n",
        "import Levenshtein\n",
        "\n",
        "def calculate_wer(reference, hypothesis):\n",
        "    reference_words = reference.split()\n",
        "    hypothesis_words = hypothesis.split()\n",
        "\n",
        "    # Compute Levenshtein distance between the reference and hypothesis\n",
        "    distance = Levenshtein.distance(reference_words, hypothesis_words)\n",
        "\n",
        "    # Calculate Word Error Rate (WER)\n",
        "    wer = distance / len(reference_words)\n",
        "    return wer\n",
        "\n",
        "#Compare hypothesis with reference\n",
        "\n",
        "reference_text0 = \"finally she administered ether\" #No modification\n",
        "hypothesis_text0 = \"finally she administered ether\" #No modification\n",
        "wer1 = calculate_wer(reference_text0, hypothesis_text0)\n",
        "print(f\"Word Error Rate (WER): {wer1}\")\n",
        "\n",
        "reference_text1 = \"finally, she administered either\" #modified due to homophonous 'either', which is a more familiar word and ungrammatical in this particular case\n",
        "hypothesis_text1 = \"finally she admitted either\"\n",
        "wer1 = calculate_wer(reference_text1, hypothesis_text1)\n",
        "print(f\"Word Error Rate (WER): {wer1}\")\n",
        "\n",
        "reference_text2 = \"Finally, she administered either\" #modified due to homophonous 'either', which is a more familiar word and ungrammatical in this particular case\n",
        "hypothesis_text2 = \"finally she administered either\"\n",
        "wer2 = calculate_wer(reference_text2, hypothesis_text2)\n",
        "print(f\"Word Error Rate (WER): {wer2}\")\n",
        "\n",
        "reference_text3 = \"finally, she administered either\" #modified due to homophonous 'either', which is a more familiar word and ungrammatical in this particular case\n",
        "hypothesis_text3 = \"finally she ultimately\"\n",
        "wer3 = calculate_wer(reference_text3, hypothesis_text3)\n",
        "print(f\"Word Error Rate (WER): {wer3}\")\n",
        "\n",
        "reference_text4 = \"finally, she administered either\" #modified due to homophonous 'either', which is a more familiar word and ungrammatical in this particular case\n",
        "hypothesis_text4 = \"finally she old manuscript eater\"\n",
        "wer4 = calculate_wer(reference_text4, hypothesis_text4)\n",
        "print(f\"Word Error Rate (WER): {wer4}\")\n",
        "\n",
        "reference_text5 = \"finally, she administered either\" #modified due to homophonous 'either', which is a more familiar word and ungrammatical in this particular case\n",
        "hypothesis_text5 = \"finally she administer either\"\n",
        "wer5 = calculate_wer(reference_text5, hypothesis_text5)\n",
        "print(f\"Word Error Rate (WER): {wer5}\")\n",
        "\n",
        "reference_text6 = \"finally, she administered either\" #modified due to homophonous 'either', which is a more familiar word and ungrammatical in this particular case\n",
        "hypothesis_text6 = \"finally she organized 308 either\"\n",
        "wer6 = calculate_wer(reference_text6, hypothesis_text6)\n",
        "print(f\"Word Error Rate (WER): {wer6}\")\n",
        "\n",
        "reference_text7 = \"finally, she administered either\" #modified due to homophonous 'either', which is a more familiar word and ungrammatical in this particular case\n",
        "hypothesis_text7 = \"binary show The Mystery Theater\"\n",
        "wer7 = calculate_wer(reference_text7, hypothesis_text7)\n",
        "print(f\"Word Error Rate (WER): {wer7}\")\n",
        "\n",
        "reference_text8 = \"finally, she administered either\" #modified due to homophonous 'either', which is a more familiar word and ungrammatical in this particular case\n",
        "hypothesis_text8 = \"finally she administered either\"\n",
        "wer8 = calculate_wer(reference_text8, hypothesis_text8)\n",
        "print(f\"Word Error Rate (WER): {wer8}\")\n",
        "\n",
        "reference_text9 = \"finally, she administered either\" #modified due to homophonous 'either', which is a more familiar word and ungrammatical in this particular case\n",
        "hypothesis_text9 = \"finally she ordered Minister either\"\n",
        "wer9 = calculate_wer(reference_text9, hypothesis_text9)\n",
        "print(f\"Word Error Rate (WER): {wer9}\")\n",
        "\n",
        "reference_text10 = \"finally, she administered either\" #modified due to homophonous 'either', which is a more familiar word and ungrammatical in this particular case\n",
        "hypothesis_text10 = \"finally she administrative\"\n",
        "wer10 = calculate_wer(reference_text10, hypothesis_text10)\n",
        "print(f\"Word Error Rate (WER): {wer10}\")"
      ],
      "metadata": {
        "colab": {
          "base_uri": "https://localhost:8080/"
        },
        "id": "sWU6YXyTK3_B",
        "outputId": "3111686e-52eb-4722-e518-3463e1542558"
      },
      "execution_count": null,
      "outputs": [
        {
          "output_type": "stream",
          "name": "stdout",
          "text": [
            "Requirement already satisfied: python-Levenshtein in /usr/local/lib/python3.10/dist-packages (0.26.1)\n",
            "Requirement already satisfied: Levenshtein==0.26.1 in /usr/local/lib/python3.10/dist-packages (from python-Levenshtein) (0.26.1)\n",
            "Requirement already satisfied: rapidfuzz<4.0.0,>=3.9.0 in /usr/local/lib/python3.10/dist-packages (from Levenshtein==0.26.1->python-Levenshtein) (3.10.1)\n",
            "Word Error Rate (WER): 0.0\n",
            "Word Error Rate (WER): 0.5\n",
            "Word Error Rate (WER): 0.25\n",
            "Word Error Rate (WER): 0.75\n",
            "Word Error Rate (WER): 1.0\n",
            "Word Error Rate (WER): 0.5\n",
            "Word Error Rate (WER): 0.75\n",
            "Word Error Rate (WER): 1.25\n",
            "Word Error Rate (WER): 0.25\n",
            "Word Error Rate (WER): 0.75\n",
            "Word Error Rate (WER): 0.75\n"
          ]
        }
      ]
    },
    {
      "cell_type": "code",
      "source": [
        "!pip install python-Levenshtein\n",
        "import Levenshtein\n",
        "\n",
        "def calculate_wer(reference, hypothesis):\n",
        "    reference_words = reference.split()\n",
        "    hypothesis_words = hypothesis.split()\n",
        "\n",
        "    # Compute Levenshtein distance between the reference and hypothesis\n",
        "    distance = Levenshtein.distance(reference_words, hypothesis_words)\n",
        "\n",
        "    # Calculate Word Error Rate (WER)\n",
        "    wer = distance / len(reference_words)\n",
        "    return wer\n",
        "\n",
        "#Compare hypothesis with reference\n",
        "reference_text1 = \"well here's a story for you\"\n",
        "hypothesis_text1 = \"well here's a story for\"\n",
        "wer1 = calculate_wer(reference_text1, hypothesis_text1)\n",
        "print(f\"Word Error Rate (WER): {wer1}\")\n",
        "\n",
        "reference_text2 = \"sarah perry was a veterinary nurse who had been working daily at an old zoo in a deserted district of the territory so she was very happy to start a new job at a superb private practice in north square near the duke street tower\"\n",
        "hypothesis_text2 = \"Sarah Perry was a Veterinary nurse who had been working daily at an old Jew in a deserted District of the territory so she was very happy to start a new job at a super Private Practice in North Square near the Duke Street Tower\"\n",
        "wer2 = calculate_wer(reference_text2, hypothesis_text2)\n",
        "print(f\"Word Error Rate (WER): {wer2}\")\n",
        "\n",
        "reference_text3 = \"that area was much nearer for her and more to her liking\"\n",
        "hypothesis_text3 = \"that area was much nearer for her and more to car liking\"\n",
        "wer3 = calculate_wer(reference_text3, hypothesis_text3)\n",
        "print(f\"Word Error Rate (WER): {wer3}\")\n",
        "\n",
        "reference_text4 = \"even so on her first morning she felt stressed\"\n",
        "hypothesis_text4 = \"even so on her first morning she first\"\n",
        "wer4 = calculate_wer(reference_text4, hypothesis_text4)\n",
        "print(f\"Word Error Rate (WER): {wer4}\")\n",
        "\n",
        "reference_text5 = \"she ate a bowl of porridge checked herself in the mirror and washed her face in a hurry\"\n",
        "hypothesis_text5 = \"she ate a bowl of porridge check herself in the mirror and wash it her face in a hurry\"\n",
        "wer5 = calculate_wer(reference_text5, hypothesis_text5)\n",
        "print(f\"Word Error Rate (WER): {wer5}\")\n",
        "\n",
        "reference_text6 = \"then she put on a plain yellow dress and a fleece jacket picked up her kit and headed for work\"\n",
        "hypothesis_text6 = \" then she put on our plain yellow dress and off please check it picked up her kids and headed for work\"\n",
        "wer6 = calculate_wer(reference_text6, hypothesis_text6)\n",
        "print(f\"Word Error Rate (WER): {wer6}\")\n",
        "\n",
        "reference_text7 = \"when she got there there was a woman with a goose waiting for her\"\n",
        "hypothesis_text7 = \" when she got there there was a woman with a ghost waiting for her\"\n",
        "wer7 = calculate_wer(reference_text7, hypothesis_text7)\n",
        "print(f\"Word Error Rate (WER): {wer7}\")\n",
        "\n",
        "reference_text8 = \"the woman gave Sarah an official letter from the vet\"\n",
        "hypothesis_text8 = \"the woman gave Sarah an official letter from the\"\n",
        "wer8 = calculate_wer(reference_text8, hypothesis_text8)\n",
        "print(f\"Word Error Rate (WER): {wer8}\")\n",
        "\n",
        "reference_text9 = \"the letter implied that the animal could be suffering from a rare form of foot and mouth disease which was surprising because normally you would only expect to see it in a dog or a goat\"\n",
        "hypothesis_text9 = \"the letter implied that the animal could be suffering from a rare form of foot and mouth disease which was surprising because normally you would only expect to see it in a dog or a goat\"\n",
        "wer9 = calculate_wer(reference_text9, hypothesis_text9)\n",
        "print(f\"Word Error Rate (WER): {wer9}\")\n",
        "\n",
        "reference_text10 = \"sarah was sentimental so this made her feel sorry for the beautiful bird\"\n",
        "hypothesis_text10 = \"Sarah was sentimental so this made her feel sorry for the beautiful part\"\n",
        "wer10 = calculate_wer(reference_text10, hypothesis_text10)\n",
        "print(f\"Word Error Rate (WER): {wer10}\")\n",
        "\n",
        "reference_text11 = \"before long that itchy goose began to strut around the office like a lunatic which made an unsanitary mess\"\n",
        "hypothesis_text11 = \"before wrong that itchy goes began to start around the office like a urinary which made on on Centenary mess\"\n",
        "wer11 = calculate_wer(reference_text11, hypothesis_text11)\n",
        "print(f\"Word Error Rate (WER): {wer11}\")\n",
        "\n",
        "reference_text12 = \"the goose's owner mary harrison kept calling comma comma which Sarah thought was an odd choice for a name\"\n",
        "hypothesis_text12 = \"Douglas owner Mary Harrison kept calling comma comma with Sarah thought was on Old choice for a name\"\n",
        "wer12 = calculate_wer(reference_text12, hypothesis_text12)\n",
        "print(f\"Word Error Rate (WER): {wer12}\")"
      ],
      "metadata": {
        "id": "dQt3o3-V0YRc",
        "outputId": "cb88b540-67f0-4d7e-b0fc-534da2a59c9b",
        "colab": {
          "base_uri": "https://localhost:8080/"
        }
      },
      "execution_count": null,
      "outputs": [
        {
          "output_type": "stream",
          "name": "stdout",
          "text": [
            "Requirement already satisfied: python-Levenshtein in /usr/local/lib/python3.10/dist-packages (0.26.1)\n",
            "Requirement already satisfied: Levenshtein==0.26.1 in /usr/local/lib/python3.10/dist-packages (from python-Levenshtein) (0.26.1)\n",
            "Requirement already satisfied: rapidfuzz<4.0.0,>=3.9.0 in /usr/local/lib/python3.10/dist-packages (from Levenshtein==0.26.1->python-Levenshtein) (3.10.1)\n",
            "Word Error Rate (WER): 0.16666666666666666\n",
            "Word Error Rate (WER): 0.28888888888888886\n",
            "Word Error Rate (WER): 0.08333333333333333\n",
            "Word Error Rate (WER): 0.2222222222222222\n",
            "Word Error Rate (WER): 0.16666666666666666\n",
            "Word Error Rate (WER): 0.3\n",
            "Word Error Rate (WER): 0.07142857142857142\n",
            "Word Error Rate (WER): 0.1\n",
            "Word Error Rate (WER): 0.0\n",
            "Word Error Rate (WER): 0.15384615384615385\n",
            "Word Error Rate (WER): 0.3684210526315789\n",
            "Word Error Rate (WER): 0.3684210526315789\n"
          ]
        }
      ]
    }
  ]
}